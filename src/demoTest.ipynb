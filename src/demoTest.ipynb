{
 "cells": [
  {
   "cell_type": "code",
   "execution_count": 1,
   "metadata": {},
   "outputs": [],
   "source": [
    "from __future__ import print_function, division\n",
    "from job_resume import JobResume"
   ]
  },
  {
   "cell_type": "code",
   "execution_count": 2,
   "metadata": {},
   "outputs": [
    {
     "name": "stdout",
     "output_type": "stream",
     "text": [
      "Number of jobs: 19001\n",
      "Number of resumes: 1219\n"
     ]
    }
   ],
   "source": [
    "x = JobResume()     # Load data\n",
    "x.prepare()         # Preprocessing\n",
    "print(\"Number of jobs: %d\" %len(x.jobs))\n",
    "print(\"Number of resumes: %d\" %len(x.resumes))"
   ]
  },
  {
   "cell_type": "code",
   "execution_count": 3,
   "metadata": {},
   "outputs": [],
   "source": [
    "x.doc2vec()         # Encode every resume and job post"
   ]
  },
  {
   "cell_type": "code",
   "execution_count": null,
   "metadata": {},
   "outputs": [],
   "source": [
    "# Find top 5 most similar resumes to Job post ID 0.\n",
    "matched_resumes, probs = x.match_job(0, 5)\n",
    "# Print the ID of the recommended top 5 resumes and their cosine distance to the target job post.\n",
    "for i,r in enumerate(matched_resumes):\n",
    "    print(\"ID: %d, Prob: %f\" %(r, probs[i]))"
   ]
  },
  {
   "cell_type": "code",
   "execution_count": null,
   "metadata": {},
   "outputs": [],
   "source": [
    "# Find top 5 most similar job posts to Resume ID 0.\n",
    "matched_jobs, probs = x.match_resume(0, 5)\n",
    "# Print the ID of the recommended top 5 job posts and their cosine distance to the target resume.\n",
    "for i, r in enumerate(matched_jobs):\n",
    "    print(\"ID: %d, Prob: %f\" % (r, probs[i]))"
   ]
  }
 ],
 "metadata": {
  "kernelspec": {
   "display_name": "Python 2",
   "language": "python",
   "name": "python2"
  },
  "language_info": {
   "codemirror_mode": {
    "name": "ipython",
    "version": 2
   },
   "file_extension": ".py",
   "mimetype": "text/x-python",
   "name": "python",
   "nbconvert_exporter": "python",
   "pygments_lexer": "ipython2",
   "version": "2.7.15"
  }
 },
 "nbformat": 4,
 "nbformat_minor": 2
}
